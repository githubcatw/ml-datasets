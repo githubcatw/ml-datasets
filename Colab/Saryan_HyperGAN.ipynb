{
  "nbformat": 4,
  "nbformat_minor": 0,
  "metadata": {
    "colab": {
      "name": "Saryan HyperGAN.ipynb",
      "provenance": [],
      "collapsed_sections": [],
      "toc_visible": true
    },
    "kernelspec": {
      "name": "python3",
      "display_name": "Python 3"
    },
    "language_info": {
      "name": "python"
    },
    "accelerator": "GPU"
  },
  "cells": [
    {
      "cell_type": "markdown",
      "metadata": {
        "id": "FifSLj_otKRM"
      },
      "source": [
        "# Change runtime type to GPU first"
      ]
    },
    {
      "cell_type": "markdown",
      "metadata": {
        "id": "eMrxeJU3s7dX"
      },
      "source": [
        "# Setup\n",
        "Download HyperGAN:"
      ]
    },
    {
      "cell_type": "code",
      "metadata": {
        "id": "is5HMow0s35P"
      },
      "source": [
        "!pip3 install hypergan hyperchamber semantic_version"
      ],
      "execution_count": null,
      "outputs": []
    },
    {
      "cell_type": "markdown",
      "metadata": {
        "id": "Yp1_3rcutoZK"
      },
      "source": [
        "Clone the datasets:"
      ]
    },
    {
      "cell_type": "code",
      "metadata": {
        "id": "BgTEpbCRtqzY"
      },
      "source": [
        "!git clone https://github.com/githubcatw/ml-datasets"
      ],
      "execution_count": null,
      "outputs": []
    },
    {
      "cell_type": "markdown",
      "metadata": {
        "id": "qteSig1luIr5"
      },
      "source": [
        "Mount Google Drive:"
      ]
    },
    {
      "cell_type": "code",
      "metadata": {
        "id": "X6R5lgAIuHUB"
      },
      "source": [
        "from google.colab import drive\n",
        "drive.mount('/content/gdrive')"
      ],
      "execution_count": null,
      "outputs": []
    },
    {
      "cell_type": "markdown",
      "metadata": {
        "id": "PGmtmrhAuVyJ"
      },
      "source": [
        "Make a model:"
      ]
    },
    {
      "cell_type": "code",
      "metadata": {
        "id": "9pe37PMhuRxR"
      },
      "source": [
        "!hypergan new saryan"
      ],
      "execution_count": null,
      "outputs": []
    },
    {
      "cell_type": "markdown",
      "metadata": {
        "id": "T6i8v___uXPz"
      },
      "source": [
        "# Training\n",
        "\n",
        "Resizing images to 128 to fit in free GPU memory. If you are using Colab Pro or your own server switch 128x128 with 256x256 or 512x512."
      ]
    },
    {
      "cell_type": "code",
      "metadata": {
        "id": "R0JIQy_auY6y"
      },
      "source": [
        "!hypergan train ml-datasets/Saryan512/ -s 128x128x3 -b 64 -c saryan --resize"
      ],
      "execution_count": null,
      "outputs": []
    },
    {
      "cell_type": "code",
      "metadata": {
        "id": "AXnRxbo2x0Cf"
      },
      "source": [
        "!cp -r saves /content/gdrive/MyDrive/colab/saryan"
      ],
      "execution_count": null,
      "outputs": []
    },
    {
      "cell_type": "markdown",
      "metadata": {
        "id": "GKBjxaCbwg4A"
      },
      "source": [
        "# Sampling"
      ]
    },
    {
      "cell_type": "code",
      "metadata": {
        "id": "mEOPY2wIvsLM"
      },
      "source": [
        "!hypergan sample ml-datasets/Saryan512/ -s 128x128x3 -b 64 --config saryan --sampler batch_walk --save_samples"
      ],
      "execution_count": null,
      "outputs": []
    },
    {
      "cell_type": "code",
      "metadata": {
        "id": "d2KNrNaS1CC3"
      },
      "source": [
        "!cp -r samples/saryan /content/gdrive/MyDrive/colab/saryan"
      ],
      "execution_count": null,
      "outputs": []
    },
    {
      "cell_type": "markdown",
      "metadata": {
        "id": "hJpkEGqG1J_X"
      },
      "source": [
        "At the end there will be 2 folders in My Drive > colab > saryan:\n",
        "\n",
        "![stra.png](data:image/png;base64,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)\n",
        "\n",
        "`saryan` contains the samples. This folder can be pretty large:\n",
        "\n",
        "![image.png](data:image/png;base64,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)"
      ]
    },
    {
      "cell_type": "markdown",
      "metadata": {
        "id": "dHuzAsOv1bpG"
      },
      "source": [
        "# Results\n",
        "\n",
        "Trained for 15 minutes\n",
        "\n",
        "Sampled for 7 minutes\n",
        "\n",
        "Train iterations: 340\n",
        "\n",
        "![last sample](https://i.imgur.com/cTw22YF.png)"
      ]
    }
  ]
}